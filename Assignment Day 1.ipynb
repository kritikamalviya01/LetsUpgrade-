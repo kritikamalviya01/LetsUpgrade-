{
 "cells": [
  {
   "cell_type": "code",
   "execution_count": null,
   "metadata": {},
   "outputs": [],
   "source": [
    "Given the following jumbled word, OBANWRI guess the correct English word.\n",
    "\n",
    "Ans: RAINBOW"
   ]
  },
  {
   "cell_type": "code",
   "execution_count": 2,
   "metadata": {},
   "outputs": [
    {
     "name": "stdout",
     "output_type": "stream",
     "text": [
      "LETS UPGRADE\n"
     ]
    }
   ],
   "source": [
    "#Write a program which prints “LETS UPGRADE”. (Please note that you have toprint in ALL CAPS as given)\n",
    "print(\"LETS UPGRADE\")"
   ]
  },
  {
   "cell_type": "markdown",
   "metadata": {},
   "source": [
    "# Write a program that takes cost price and selling price as input and displays whether the transaction is a Profit or a Loss or Neither.\n"
   ]
  },
  {
   "cell_type": "code",
   "execution_count": 4,
   "metadata": {},
   "outputs": [
    {
     "name": "stdout",
     "output_type": "stream",
     "text": [
      "Enter the cost price50\n",
      "Enter the selling price60\n",
      "Profit\n"
     ]
    }
   ],
   "source": [
    "#PYTHON program for profit and loss\n",
    "\n",
    "a = int(input(\"Enter the cost price\"))\n",
    "b = int(input(\"Enter the selling price\"))\n",
    "\n",
    "if(a>b):\n",
    "    print(\"Loss\")\n",
    "elif(a==b):\n",
    "    print(\"No profit\")\n",
    "elif(a<b):\n",
    "    print(\"Profit\")\n",
    "    \n",
    "   "
   ]
  },
  {
   "cell_type": "markdown",
   "metadata": {},
   "source": [
    "Write a program that takes an amount in Euros as input. You need to find its equivalent in\n",
    "Rupees and display it. Assume 1 Euro equals Rs. 80.# "
   ]
  },
  {
   "cell_type": "code",
   "execution_count": 5,
   "metadata": {},
   "outputs": [
    {
     "name": "stdout",
     "output_type": "stream",
     "text": [
      "20\n",
      "1600\n"
     ]
    }
   ],
   "source": [
    "a = int(input())\n",
    "b = a*80\n",
    "print(b)"
   ]
  }
 ],
 "metadata": {
  "kernelspec": {
   "display_name": "Python 3",
   "language": "python",
   "name": "python3"
  },
  "language_info": {
   "codemirror_mode": {
    "name": "ipython",
    "version": 3
   },
   "file_extension": ".py",
   "mimetype": "text/x-python",
   "name": "python",
   "nbconvert_exporter": "python",
   "pygments_lexer": "ipython3",
   "version": "3.7.6"
  }
 },
 "nbformat": 4,
 "nbformat_minor": 4
}
